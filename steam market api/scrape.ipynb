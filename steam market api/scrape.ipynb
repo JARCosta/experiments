{
 "cells": [
  {
   "cell_type": "code",
   "execution_count": 1,
   "metadata": {},
   "outputs": [],
   "source": [
    "import asyncio\n",
    "import csv\n",
    "from datetime import datetime\n",
    "import json\n",
    "import time\n",
    "import visualizer\n",
    "\n",
    "import requests\n",
    "import sys"
   ]
  },
  {
   "cell_type": "markdown",
   "metadata": {},
   "source": [
    "# BUFF"
   ]
  },
  {
   "cell_type": "code",
   "execution_count": 7,
   "metadata": {},
   "outputs": [],
   "source": [
    "def get_buff_json(url, hidden_prints:bool=False):\n",
    "    headers = {\n",
    "        \"Accept-Language\": \"en-US\",\n",
    "        # \"cookie\": \"session=1-KkV0mFdN6EI9S8ZGWA-Aldct4C_eK0uhmoUit1Y9KnJW2038331450\", main\n",
    "        \"cookie\": \"session=1-iOHNuqGSjRWueamMaALM9ytyt7eoLLju47e2Wpb-RZ0z2029595640\", # RenaGonca\n",
    "        \"User-Agent\": \"Mozilla/5.0 (Windows NT 10.0; Win64; x64) AppleWebKit/537.36 (KHTML, like Gecko) Chrome/112.0.0.0 Safari/537.36\",\n",
    "        \"Referer\": \"https://buff.163.com/market/dota2\",\n",
    "        \"X-Requested-With\": \"XMLHttpRequest\"\n",
    "      }\n",
    "    request = requests.get(url, headers=headers)\n",
    "    while request.status_code != 200 and request.status_code == 429:\n",
    "        time.sleep(10)\n",
    "        if not hidden_prints: print(\"\\033[91mError requesting again...\")\n",
    "        request = requests.get(url, headers=headers)\n",
    "    print(request.text)\n",
    "    return request"
   ]
  },
  {
   "cell_type": "code",
   "execution_count": 6,
   "metadata": {},
   "outputs": [
    {
     "data": {
      "text/plain": [
       "'https://buff.163.com/api/market/goods?game=csgo&page_num=800&page_size=80&sort_by=sell_num.desc&sort_order=desc'"
      ]
     },
     "execution_count": 6,
     "metadata": {},
     "output_type": "execute_result"
    }
   ],
   "source": [
    "def bulk_buff_search(page:int, page_size:int=80, hidden_prints:bool=False):\n",
    "    reference_time = datetime.now().strftime(\"%H:%M\")\n",
    "\n",
    "    url = f\"https://buff.163.com/api/market/goods?game=csgo&page_num={page * page_size}&page_size=80&sort_by=sell_num.desc&sort_order=desc\"\n",
    "    \n",
    "    request = get_buff_json(url)\n",
    "\n",
    "    items = request.json()[\"data\"][\"items\"]\n",
    "    res = []\n",
    "    for item in items:\n",
    "        market_hash_name = item[\"market_hash_name\"]\n",
    "        good_id = item[\"id\"]\n",
    "        min_sell_order = round(float(item[\"sell_min_price\"]) * 0.13, 2)\n",
    "        sell_orders = item[\"sell_num\"]\n",
    "        buy_orders = item[\"buy_num\"]\n",
    "        max_buy_order = round(float(item[\"buy_max_price\"]) * 0.13, 2)\n",
    "        steam_reference_price = round(float(item[\"goods_info\"][\"steam_price_cny\"])*0.13, 2)\n",
    "\n",
    "        res.append([reference_time, market_hash_name, min_sell_order, sell_orders, max_buy_order, buy_orders, steam_reference_price])\n",
    "        if not hidden_prints: print(\"\\033[92m\" + market_hash_name, min_sell_order, sell_orders, max_buy_order, buy_orders, steam_reference_price, \"\\033[0m\")\n",
    "\n",
    "    return res\n",
    "bulk_buff_search(10)\n"
   ]
  },
  {
   "cell_type": "markdown",
   "metadata": {},
   "source": [
    "# STEAM"
   ]
  },
  {
   "cell_type": "code",
   "execution_count": null,
   "metadata": {},
   "outputs": [],
   "source": []
  }
 ],
 "metadata": {
  "kernelspec": {
   "display_name": "Python 3",
   "language": "python",
   "name": "python3"
  },
  "language_info": {
   "codemirror_mode": {
    "name": "ipython",
    "version": 3
   },
   "file_extension": ".py",
   "mimetype": "text/x-python",
   "name": "python",
   "nbconvert_exporter": "python",
   "pygments_lexer": "ipython3",
   "version": "3.11.7"
  }
 },
 "nbformat": 4,
 "nbformat_minor": 2
}
