{
 "cells": [
  {
   "cell_type": "code",
   "execution_count": 2,
   "metadata": {},
   "outputs": [],
   "source": [
    "GW = 448\n",
    "URL = \"https://www.soraredata.com/projections-api/SO5/probableLineups?gw=\" + str(GW)"
   ]
  },
  {
   "cell_type": "code",
   "execution_count": 35,
   "metadata": {},
   "outputs": [
    {
     "data": {
      "text/plain": [
       "{'error': 'unauthorized'}"
      ]
     },
     "execution_count": 35,
     "metadata": {},
     "output_type": "execute_result"
    }
   ],
   "source": [
    "import requests\n",
    "\n",
    "cookies = {\n",
    "  \"cookiehub\": \"eyJhbnN3ZXJlZCI6dHJ1ZSwicHJlY29uc2VudCI6ZmFsc2UsInJldmlzaW9uIjoxLCJkbnQiOmZhbHNlLCJhbGxvd1NhbGUiOnRydWUsImltcGxpY3QiOmZhbHNlLCJyZWdpb24iOiIiLCJ0b2tlbiI6InFwNURoaVJiVXFGNU10TnVrVEk5RE4yMlM0QURqV2JBSWhLRXFpVkRvckZlZVJXTUZwRWF0TGN2UElVeVlEd1MiLCJ0aW1lc3RhbXAiOiIyMDIzLTExLTIyVDIxOjE4OjI2LjYxOVoiLCJjYXRlZ29yaWVzIjpbeyJjaWQiOjEsImlkIjoibmVjZXNzYXJ5IiwidmFsdWUiOnRydWUsInByZWNvbnNlbnQiOnRydWUsImZpcmVkIjp0cnVlfSx7ImNpZCI6MiwiaWQiOiJwcmVmZXJlbmNlcyIsInZhbHVlIjp0cnVlLCJwcmVjb25zZW50IjpmYWxzZSwiZmlyZWQiOmZhbHNlfSx7ImNpZCI6MywiaWQiOiJhbmFseXRpY3MiLCJ2YWx1ZSI6dHJ1ZSwicHJlY29uc2VudCI6ZmFsc2UsImZpcmVkIjpmYWxzZX1dfQ\",\n",
    "  \"cf_clearance\": \"5H5HxdlfMZAzSO4areZ7X7fx8iilG0hrhvbx1fyctgs\",\n",
    "  \"sd-refresh-token\": \"eyJhbGciOiJIUzI1NiIsInR5cCI6IkpXVCJ9\",\n",
    "  \"sd-access-token\": \"eyJhbGciOiJIUzI1NiIsInR5cCI6IkpXVCJ9\"\n",
    "}\n",
    "\n",
    "\n",
    "\n",
    "r = requests.get(URL, headers={\"User-Agent\": \"Mozilla/5.0\"}, cookies=cookies)\n",
    "# data = r.json()\n",
    "\n",
    "r.json()"
   ]
  },
  {
   "cell_type": "code",
   "execution_count": 44,
   "metadata": {},
   "outputs": [],
   "source": [
    "import selenium\n",
    "\n",
    "from selenium import webdriver\n",
    "\n",
    "cookies = {\n",
    "  \"cookiehub\": \"eyJhbnN3ZXJlZCI6dHJ1ZSwicHJlY29uc2VudCI6ZmFsc2UsInJldmlzaW9uIjoxLCJkbnQiOmZhbHNlLCJhbGxvd1NhbGUiOnRydWUsImltcGxpY3QiOmZhbHNlLCJyZWdpb24iOiIiLCJ0b2tlbiI6InFwNURoaVJiVXFGNU10TnVrVEk5RE4yMlM0QURqV2JBSWhLRXFpVkRvckZlZVJXTUZwRWF0TGN2UElVeVlEd1MiLCJ0aW1lc3RhbXAiOiIyMDIzLTExLTIyVDIxOjE4OjI2LjYxOVoiLCJjYXRlZ29yaWVzIjpbeyJjaWQiOjEsImlkIjoibmVjZXNzYXJ5IiwidmFsdWUiOnRydWUsInByZWNvbnNlbnQiOnRydWUsImZpcmVkIjp0cnVlfSx7ImNpZCI6MiwiaWQiOiJwcmVmZXJlbmNlcyIsInZhbHVlIjp0cnVlLCJwcmVjb25zZW50IjpmYWxzZSwiZmlyZWQiOmZhbHNlfSx7ImNpZCI6MywiaWQiOiJhbmFseXRpY3MiLCJ2YWx1ZSI6dHJ1ZSwicHJlY29uc2VudCI6ZmFsc2UsImZpcmVkIjpmYWxzZX1dfQ\",\n",
    "  \"cf_clearance\": \"5H5HxdlfMZAzSO4areZ7X7fx8iilG0hrhvbx1fyctgs\",\n",
    "  \"sd-refresh-token\": \"eyJhbGciOiJIUzI1NiIsInR5cCI6IkpXVCJ9\",\n",
    "  \"sd-access-token\": \"eyJhbGciOiJIUzI1NiIsInR5cCI6IkpXVCJ9\"\n",
    "}\n",
    "\n",
    "driver = webdriver.Chrome()\n",
    "\n",
    "driver.get(URL)\n",
    "# for i in cookies:\n",
    "#   driver.add_cookie({\"name\": i, \"value\": cookies[i]})\n",
    "\n",
    "\n"
   ]
  }
 ],
 "metadata": {
  "kernelspec": {
   "display_name": "Python 3",
   "language": "python",
   "name": "python3"
  },
  "language_info": {
   "codemirror_mode": {
    "name": "ipython",
    "version": 3
   },
   "file_extension": ".py",
   "mimetype": "text/x-python",
   "name": "python",
   "nbconvert_exporter": "python",
   "pygments_lexer": "ipython3",
   "version": "3.11.7"
  }
 },
 "nbformat": 4,
 "nbformat_minor": 2
}
