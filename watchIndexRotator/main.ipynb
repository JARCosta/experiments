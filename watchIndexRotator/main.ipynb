{
 "cells": [
  {
   "cell_type": "code",
   "execution_count": 8,
   "metadata": {},
   "outputs": [],
   "source": [
    "from PIL import Image \n",
    "import math\n",
    "  \n",
    "image_name = \"index.png\"\n",
    "Original_Image = Image.open(f\"./{image_name}\")"
   ]
  },
  {
   "cell_type": "markdown",
   "metadata": {},
   "source": [
    "# Rotation"
   ]
  },
  {
   "cell_type": "code",
   "execution_count": null,
   "metadata": {},
   "outputs": [],
   "source": [
    "# Rotation only, 1rpm at 15fps\n",
    "for i in range(0, 900):\n",
    "  rotated_image = Original_Image.rotate(i*0.4) \n",
    "  rotated_image.save(f\"./animation2/{i}.png\") \n",
    "  print(f\"Rotated {i*0.4} degrees\")"
   ]
  },
  {
   "cell_type": "markdown",
   "metadata": {},
   "source": [
    "# Translation"
   ]
  },
  {
   "cell_type": "code",
   "execution_count": null,
   "metadata": {},
   "outputs": [],
   "source": [
    "# Translation only, 1rpm at 15fps\n",
    "for i in range(450, -450, -1):\n",
    "\n",
    "  translation_distance = 90\n",
    "  angle = i*0.4\n",
    "\n",
    "  x = translation_distance * math.sin(math.radians(angle))\n",
    "  y = translation_distance * math.cos(math.radians(angle))\n",
    "\n",
    "  zoomed_image = Original_Image.resize((int(Original_Image.size[0]*1.5), int(Original_Image.size[1]*1.5)))\n",
    "\n",
    "  window_size = 360\n",
    "\n",
    "  translated_image = zoomed_image.crop((zoomed_image.size[0]/2 - window_size/2 + x, zoomed_image.size[1]/2 - window_size/2 + y, zoomed_image.size[0]/2 + window_size/2 + x, zoomed_image.size[1]/2 + window_size/2 + y))\n",
    "  resized_image = translated_image.resize((360, 360))\n",
    "\n",
    "  out_name = abs(i-450)\n",
    "\n",
    "  resized_image.save(f\"./translation/{out_name}.png\")\n",
    "  print(f\"Translated {out_name} degrees, image dimensions: {resized_image.size}\")"
   ]
  },
  {
   "cell_type": "markdown",
   "metadata": {},
   "source": [
    "## Translation hourly"
   ]
  },
  {
   "cell_type": "code",
   "execution_count": 9,
   "metadata": {},
   "outputs": [
    {
     "name": "stdout",
     "output_type": "stream",
     "text": [
      "Translated 0 degrees, image dimensions: (450, 450)\n",
      "Translated 1 degrees, image dimensions: (450, 450)\n",
      "Translated 2 degrees, image dimensions: (450, 450)\n",
      "Translated 3 degrees, image dimensions: (450, 450)\n",
      "Translated 4 degrees, image dimensions: (450, 450)\n",
      "Translated 5 degrees, image dimensions: (450, 450)\n",
      "Translated 6 degrees, image dimensions: (450, 450)\n",
      "Translated 7 degrees, image dimensions: (450, 450)\n",
      "Translated 8 degrees, image dimensions: (450, 450)\n",
      "Translated 9 degrees, image dimensions: (450, 450)\n",
      "Translated 10 degrees, image dimensions: (450, 450)\n",
      "Translated 11 degrees, image dimensions: (450, 450)\n"
     ]
    }
   ],
   "source": [
    "# Translation only, 1rpm at 15fps\n",
    "\n",
    "for i in range(0, 12):\n",
    "  angle = 360/12 * i\n",
    "  translation_distance = 100\n",
    "\n",
    "  x = translation_distance * math.sin(math.radians(-angle+180))\n",
    "  y = translation_distance * math.cos(math.radians(-angle+180))\n",
    "\n",
    "  zoomed_image = Original_Image.resize((int(Original_Image.size[0]*1.5), int(Original_Image.size[1]*1.5)))\n",
    "\n",
    "  window_size = int(Original_Image.size[0])\n",
    "\n",
    "  translated_image = zoomed_image.crop((zoomed_image.size[0]/2 - window_size/2 + x, zoomed_image.size[1]/2 - window_size/2 + y, zoomed_image.size[0]/2 + window_size/2 + x, zoomed_image.size[1]/2 + window_size/2 + y))\n",
    "  resized_image = translated_image.resize((window_size, window_size))\n",
    "\n",
    "  out_name = i\n",
    "  resized_image.save(f\"./translation2/{out_name}.png\")\n",
    "  print(f\"Translated {out_name} degrees, image dimensions: {resized_image.size}\")"
   ]
  }
 ],
 "metadata": {
  "kernelspec": {
   "display_name": "Python 3",
   "language": "python",
   "name": "python3"
  },
  "language_info": {
   "codemirror_mode": {
    "name": "ipython",
    "version": 3
   },
   "file_extension": ".py",
   "mimetype": "text/x-python",
   "name": "python",
   "nbconvert_exporter": "python",
   "pygments_lexer": "ipython3",
   "version": "3.11.7"
  }
 },
 "nbformat": 4,
 "nbformat_minor": 2
}
