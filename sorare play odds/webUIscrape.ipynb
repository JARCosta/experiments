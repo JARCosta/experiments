{
 "cells": [
  {
   "cell_type": "code",
   "execution_count": 1,
   "metadata": {},
   "outputs": [
    {
     "name": "stdout",
     "output_type": "stream",
     "text": [
      "Collecting selenium\n",
      "  Obtaining dependency information for selenium from https://files.pythonhosted.org/packages/97/e3/fd7272d6d2c49fd49a79a603cb28c8b5a71f8911861b4a0409b3c006a241/selenium-4.17.2-py3-none-any.whl.metadata\n",
      "  Downloading selenium-4.17.2-py3-none-any.whl.metadata (6.9 kB)\n",
      "Requirement already satisfied: urllib3[socks]<3,>=1.26 in c:\\users\\j040c\\appdata\\local\\packages\\pythonsoftwarefoundation.python.3.11_qbz5n2kfra8p0\\localcache\\local-packages\\python311\\site-packages (from selenium) (1.26.15)\n",
      "Collecting trio~=0.17 (from selenium)\n",
      "  Obtaining dependency information for trio~=0.17 from https://files.pythonhosted.org/packages/14/fb/9299cf74953f473a15accfdbe2c15218e766bae8c796f2567c83bae03e98/trio-0.24.0-py3-none-any.whl.metadata\n",
      "  Downloading trio-0.24.0-py3-none-any.whl.metadata (4.9 kB)\n",
      "Collecting trio-websocket~=0.9 (from selenium)\n",
      "  Obtaining dependency information for trio-websocket~=0.9 from https://files.pythonhosted.org/packages/48/be/a9ae5f50cad5b6f85bd2574c2c923730098530096e170c1ce7452394d7aa/trio_websocket-0.11.1-py3-none-any.whl.metadata\n",
      "  Downloading trio_websocket-0.11.1-py3-none-any.whl.metadata (4.7 kB)\n",
      "Requirement already satisfied: certifi>=2021.10.8 in c:\\users\\j040c\\appdata\\local\\packages\\pythonsoftwarefoundation.python.3.11_qbz5n2kfra8p0\\localcache\\local-packages\\python311\\site-packages (from selenium) (2022.12.7)\n",
      "Requirement already satisfied: typing_extensions>=4.9.0 in c:\\users\\j040c\\appdata\\local\\packages\\pythonsoftwarefoundation.python.3.11_qbz5n2kfra8p0\\localcache\\local-packages\\python311\\site-packages (from selenium) (4.9.0)\n",
      "Collecting attrs>=20.1.0 (from trio~=0.17->selenium)\n",
      "  Obtaining dependency information for attrs>=20.1.0 from https://files.pythonhosted.org/packages/e0/44/827b2a91a5816512fcaf3cc4ebc465ccd5d598c45cefa6703fcf4a79018f/attrs-23.2.0-py3-none-any.whl.metadata\n",
      "  Downloading attrs-23.2.0-py3-none-any.whl.metadata (9.5 kB)\n",
      "Collecting sortedcontainers (from trio~=0.17->selenium)\n",
      "  Downloading sortedcontainers-2.4.0-py2.py3-none-any.whl (29 kB)\n",
      "Requirement already satisfied: idna in c:\\users\\j040c\\appdata\\local\\packages\\pythonsoftwarefoundation.python.3.11_qbz5n2kfra8p0\\localcache\\local-packages\\python311\\site-packages (from trio~=0.17->selenium) (3.4)\n",
      "Collecting outcome (from trio~=0.17->selenium)\n",
      "  Obtaining dependency information for outcome from https://files.pythonhosted.org/packages/55/8b/5ab7257531a5d830fc8000c476e63c935488d74609b50f9384a643ec0a62/outcome-1.3.0.post0-py2.py3-none-any.whl.metadata\n",
      "  Downloading outcome-1.3.0.post0-py2.py3-none-any.whl.metadata (2.6 kB)\n",
      "Collecting sniffio>=1.3.0 (from trio~=0.17->selenium)\n",
      "  Downloading sniffio-1.3.0-py3-none-any.whl (10 kB)\n",
      "Collecting cffi>=1.14 (from trio~=0.17->selenium)\n",
      "  Obtaining dependency information for cffi>=1.14 from https://files.pythonhosted.org/packages/5a/c7/694814b3757878b29da39bc2f0cf9d20295f4c1e0a0bde7971708d5f23f8/cffi-1.16.0-cp311-cp311-win_amd64.whl.metadata\n",
      "  Downloading cffi-1.16.0-cp311-cp311-win_amd64.whl.metadata (1.5 kB)\n",
      "Collecting wsproto>=0.14 (from trio-websocket~=0.9->selenium)\n",
      "  Downloading wsproto-1.2.0-py3-none-any.whl (24 kB)\n",
      "Collecting PySocks!=1.5.7,<2.0,>=1.5.6 (from urllib3[socks]<3,>=1.26->selenium)\n",
      "  Downloading PySocks-1.7.1-py3-none-any.whl (16 kB)\n",
      "Collecting pycparser (from cffi>=1.14->trio~=0.17->selenium)\n",
      "  Downloading pycparser-2.21-py2.py3-none-any.whl (118 kB)\n",
      "     ---------------------------------------- 0.0/118.7 kB ? eta -:--:--\n",
      "     -------------------------------------- 118.7/118.7 kB 6.8 MB/s eta 0:00:00\n",
      "Collecting h11<1,>=0.9.0 (from wsproto>=0.14->trio-websocket~=0.9->selenium)\n",
      "  Downloading h11-0.14.0-py3-none-any.whl (58 kB)\n",
      "     ---------------------------------------- 0.0/58.3 kB ? eta -:--:--\n",
      "     ---------------------------------------- 58.3/58.3 kB ? eta 0:00:00\n",
      "Downloading selenium-4.17.2-py3-none-any.whl (9.9 MB)\n",
      "   ---------------------------------------- 0.0/9.9 MB ? eta -:--:--\n",
      "   -- ------------------------------------- 0.5/9.9 MB 15.9 MB/s eta 0:00:01\n",
      "   --- ------------------------------------ 0.9/9.9 MB 11.7 MB/s eta 0:00:01\n",
      "   ------ --------------------------------- 1.6/9.9 MB 13.0 MB/s eta 0:00:01\n",
      "   --------- ------------------------------ 2.3/9.9 MB 13.2 MB/s eta 0:00:01\n",
      "   ----------- ---------------------------- 2.8/9.9 MB 12.6 MB/s eta 0:00:01\n",
      "   ------------- -------------------------- 3.4/9.9 MB 12.6 MB/s eta 0:00:01\n",
      "   --------------- ------------------------ 3.9/9.9 MB 12.5 MB/s eta 0:00:01\n",
      "   ------------------ --------------------- 4.5/9.9 MB 12.6 MB/s eta 0:00:01\n",
      "   -------------------- ------------------- 5.0/9.9 MB 12.4 MB/s eta 0:00:01\n",
      "   ---------------------- ----------------- 5.5/9.9 MB 12.2 MB/s eta 0:00:01\n",
      "   ------------------------ --------------- 6.1/9.9 MB 12.1 MB/s eta 0:00:01\n",
      "   -------------------------- ------------- 6.6/9.9 MB 12.0 MB/s eta 0:00:01\n",
      "   ---------------------------- ----------- 7.1/9.9 MB 11.6 MB/s eta 0:00:01\n",
      "   ------------------------------ --------- 7.6/9.9 MB 11.4 MB/s eta 0:00:01\n",
      "   -------------------------------- ------- 8.1/9.9 MB 11.3 MB/s eta 0:00:01\n",
      "   ---------------------------------- ----- 8.6/9.9 MB 11.2 MB/s eta 0:00:01\n",
      "   ------------------------------------- -- 9.2/9.9 MB 11.3 MB/s eta 0:00:01\n",
      "   ---------------------------------------  9.7/9.9 MB 11.5 MB/s eta 0:00:01\n",
      "   ---------------------------------------  9.9/9.9 MB 11.3 MB/s eta 0:00:01\n",
      "   ---------------------------------------- 9.9/9.9 MB 10.7 MB/s eta 0:00:00\n",
      "Downloading trio-0.24.0-py3-none-any.whl (460 kB)\n",
      "   ---------------------------------------- 0.0/460.2 kB ? eta -:--:--\n",
      "   ---------------------------------------  450.6/460.2 kB 9.4 MB/s eta 0:00:01\n",
      "   ---------------------------------------- 460.2/460.2 kB 9.6 MB/s eta 0:00:00\n",
      "Downloading trio_websocket-0.11.1-py3-none-any.whl (17 kB)\n",
      "Downloading attrs-23.2.0-py3-none-any.whl (60 kB)\n",
      "   ---------------------------------------- 0.0/60.8 kB ? eta -:--:--\n",
      "   ---------------------------------------- 60.8/60.8 kB 3.2 MB/s eta 0:00:00\n",
      "Downloading cffi-1.16.0-cp311-cp311-win_amd64.whl (181 kB)\n",
      "   ---------------------------------------- 0.0/181.5 kB ? eta -:--:--\n",
      "   --------------------------------------- 181.5/181.5 kB 10.7 MB/s eta 0:00:00\n",
      "Downloading outcome-1.3.0.post0-py2.py3-none-any.whl (10 kB)\n",
      "Installing collected packages: sortedcontainers, sniffio, PySocks, pycparser, h11, attrs, wsproto, outcome, cffi, trio, trio-websocket, selenium\n",
      "Successfully installed PySocks-1.7.1 attrs-23.2.0 cffi-1.16.0 h11-0.14.0 outcome-1.3.0.post0 pycparser-2.21 selenium-4.17.2 sniffio-1.3.0 sortedcontainers-2.4.0 trio-0.24.0 trio-websocket-0.11.1 wsproto-1.2.0\n"
     ]
    },
    {
     "name": "stderr",
     "output_type": "stream",
     "text": [
      "\n",
      "[notice] A new release of pip is available: 23.2.1 -> 23.3.2\n",
      "[notice] To update, run: C:\\Users\\j040c\\AppData\\Local\\Microsoft\\WindowsApps\\PythonSoftwareFoundation.Python.3.11_qbz5n2kfra8p0\\python.exe -m pip install --upgrade pip\n"
     ]
    }
   ],
   "source": [
    "!pip install selenium"
   ]
  },
  {
   "cell_type": "code",
   "execution_count": 41,
   "metadata": {},
   "outputs": [
    {
     "name": "stdout",
     "output_type": "stream",
     "text": [
      "Starting webdriver\n",
      "Getting Sorare\n",
      "Waiting for page to load\n"
     ]
    },
    {
     "data": {
      "text/plain": [
       "[]"
      ]
     },
     "execution_count": 41,
     "metadata": {},
     "output_type": "execute_result"
    }
   ],
   "source": [
    "import requests\n",
    "import time\n",
    "\n",
    "from selenium import webdriver\n",
    "from selenium.webdriver.common.keys import Keys\n",
    "from selenium.webdriver.common.by import By\n",
    "\n",
    "\n",
    "\n",
    "SORARE_URL = \"https://sorare.com/football/play/pro\"\n",
    "\n",
    "\n",
    "\n",
    "print(\"Starting webdriver\")\n",
    "driver = webdriver.Chrome()\n",
    "print(\"Getting Sorare\")\n",
    "driver.get(SORARE_URL)\n",
    "print(\"Waiting for page to load\")\n",
    "time.sleep(5)\n",
    "\n",
    "\n",
    "\n",
    "# driver.maximize_window()\n",
    "\n",
    "# mail = driver.find_element(By.XPATH, \"/html/body/div[1]/iframe\")\n",
    "# mail.screenshot(\"sorare.png\")\n",
    "# mail.find_elements(By.XPATH, \".//*\")\n",
    "mail = driver.find_element(By.XPATH, \"/html/body/div[1]\")\n",
    "\n",
    "frame = mail.find_elements(By.XPATH, \".//iframe\")[2]\n",
    "\n",
    "frame.find_elements(By.XPATH, \".//*\")\n",
    "\n",
    "\n",
    "# mail = driver.find_element(By.XPATH, \"/html/body/div[1]/div/form\")\n",
    "# mail = driver.find_element(By.XPATH, \"/html/body/div[1]/div/form/div[2]\")\n",
    "# mail = driver.find_element(By.XPATH, \"/html/body/div[1]/div/form/div[2]/div\")\n",
    "# mail = driver.find_element(By.XPATH, \"/html/body/div[1]/div/form/div[2]/div/input\")\n",
    "# mail.send_keys(\"asds\")\n",
    "\n",
    "# driver.save_screenshot(\"sorare.png\")\n",
    "\n",
    "# driver.close()\n"
   ]
  }
 ],
 "metadata": {
  "kernelspec": {
   "display_name": "Python 3",
   "language": "python",
   "name": "python3"
  },
  "language_info": {
   "codemirror_mode": {
    "name": "ipython",
    "version": 3
   },
   "file_extension": ".py",
   "mimetype": "text/x-python",
   "name": "python",
   "nbconvert_exporter": "python",
   "pygments_lexer": "ipython3",
   "version": "3.11.7"
  }
 },
 "nbformat": 4,
 "nbformat_minor": 2
}
